{
 "cells": [
  {
   "cell_type": "code",
   "execution_count": 1,
   "id": "508038e1-2f67-48ce-91f7-a1c014b829d1",
   "metadata": {},
   "outputs": [
    {
     "name": "stdout",
     "output_type": "stream",
     "text": [
      "Financial Analysis\n",
      "----------------------------\n",
      "Total Months: 86\n",
      "Total: $38382578\n",
      "Average Change: $-2315.12\n",
      "Greatest Increase in Profits: Feb-2012 ($1926159)\n",
      "Greatest Decrease in Profits: Sep-2013 ($-2196167)\n"
     ]
    }
   ],
   "source": [
    "# Import necessary libraries\n",
    "import csv\n",
    "import os\n",
    "\n",
    "# Set the file path for the CSV file\n",
    "file_to_load = \"PyBank/Resources/budget_data.csv\"\n",
    "\n",
    "# Initialize variables for analysis\n",
    "total_months = 0\n",
    "net_total = 0\n",
    "average_change = 0\n",
    "greatest_increase = 0\n",
    "greatest_decrease = 0\n",
    "greatest_increase_date = \"\"\n",
    "greatest_decrease_date = \"\"\n",
    "\n",
    "# Read the CSV file\n",
    "with open(file_to_load) as financial_data:\n",
    "    reader = csv.reader(financial_data)\n",
    "    \n",
    "    # Read the header row\n",
    "    header = next(reader)\n",
    "    \n",
    "    # Loop through the data to perform calculations\n",
    "    for row in reader:\n",
    "        # Update total months and net total\n",
    "        total_months += 1\n",
    "        net_total += int(row[1])\n",
    "        \n",
    "        # Calculate change in profit/loss\n",
    "        current_profit = int(row[1])\n",
    "        if total_months > 1:\n",
    "            change = current_profit - prev_profit\n",
    "            average_change += change\n",
    "            \n",
    "            # Check for greatest increase and decrease\n",
    "            if change > greatest_increase:\n",
    "                greatest_increase = change\n",
    "                greatest_increase_date = row[0]\n",
    "            elif change < greatest_decrease:\n",
    "                greatest_decrease = change\n",
    "                greatest_decrease_date = row[0]\n",
    "        prev_profit = current_profit\n",
    "\n",
    "# Calculate the average change\n",
    "average_change /= (total_months - 1)\n",
    "\n",
    "# Print the analysis to the terminal\n",
    "print(\"Financial Analysis\")\n",
    "print(\"----------------------------\")\n",
    "print(f\"Total Months: {total_months}\")\n",
    "print(f\"Total: ${net_total}\")\n",
    "print(f\"Average Change: ${average_change:.2f}\")\n",
    "print(f\"Greatest Increase in Profits: {greatest_increase_date} (${greatest_increase})\")\n",
    "print(f\"Greatest Decrease in Profits: {greatest_decrease_date} (${greatest_decrease})\")\n",
    "\n",
    "# Export the analysis to a text file\n",
    "output_file = \"output.txt\"\n",
    "with open(output_file, \"w\") as text_file:\n",
    "    text_file.write(\"Financial Analysis\\n\")\n",
    "    text_file.write(\"----------------------------\\n\")\n",
    "    text_file.write(f\"Total Months: {total_months}\\n\")\n",
    "    text_file.write(f\"Total: ${net_total}\\n\")\n",
    "    text_file.write(f\"Average Change: ${average_change:.2f}\\n\")\n",
    "    text_file.write(f\"Greatest Increase in Profits: {greatest_increase_date} (${greatest_increase})\\n\")\n",
    "    text_file.write(f\"Greatest Decrease in Profits: {greatest_decrease_date} (${greatest_decrease})\\n\")\n"
   ]
  },
  {
   "cell_type": "code",
   "execution_count": null,
   "id": "5cdc84e8-15ca-4fc9-82ac-1a9235d4d9ee",
   "metadata": {},
   "outputs": [],
   "source": []
  }
 ],
 "metadata": {
  "kernelspec": {
   "display_name": "Python 3 (ipykernel)",
   "language": "python",
   "name": "python3"
  },
  "language_info": {
   "codemirror_mode": {
    "name": "ipython",
    "version": 3
   },
   "file_extension": ".py",
   "mimetype": "text/x-python",
   "name": "python",
   "nbconvert_exporter": "python",
   "pygments_lexer": "ipython3",
   "version": "3.9.13"
  }
 },
 "nbformat": 4,
 "nbformat_minor": 5
}
